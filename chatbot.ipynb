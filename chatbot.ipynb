{
 "cells": [
  {
   "cell_type": "code",
   "execution_count": 34,
   "id": "c3cfba00",
   "metadata": {},
   "outputs": [],
   "source": [
    "import os\n",
    "import simpleaudio as sa\n",
    "from dotenv import load_dotenv\n",
    "load_dotenv()\n",
    "from langchain_groq import ChatGroq\n",
    "from langchain_core.prompts import ChatPromptTemplate,MessagesPlaceholder\n",
    "from langgraph.checkpoint.memory import MemorySaver\n",
    "from langchain_community.tools import DuckDuckGoSearchRun\n",
    "from langchain_community.utilities import DuckDuckGoSearchAPIWrapper\n",
    "from langchain_community.tools.yahoo_finance_news import YahooFinanceNewsTool\n",
    "from langgraph.prebuilt import create_react_agent\n",
    "import whisper\n",
    "from TTS.api import TTS\n",
    "import sounddevice as sd\n",
    "from scipy.io.wavfile import write"
   ]
  },
  {
   "cell_type": "code",
   "execution_count": 35,
   "id": "ab8b6e34",
   "metadata": {},
   "outputs": [],
   "source": [
    "os.environ[\"GROQ_API_KEY\"] = os.getenv(\"GROQ_API_KEY\")"
   ]
  },
  {
   "cell_type": "code",
   "execution_count": 36,
   "id": "3956eb74",
   "metadata": {},
   "outputs": [],
   "source": [
    "model = ChatGroq(model=\"llama3-70b-8192\", temperature=0.2)\n",
    "prompt = ChatPromptTemplate.from_messages([\n",
    "    (\"system\", \n",
    "     \"You are a helpful assistant. If you don't know something, use the DuckDuckGo tool to search the web. \"\n",
    "     \"When using the tool, always pass a clear and non-empty 'query' argument string.\"),\n",
    "    MessagesPlaceholder(variable_name=\"messages\")\n",
    "])\n",
    "memory = MemorySaver()"
   ]
  },
  {
   "cell_type": "code",
   "execution_count": 37,
   "id": "e67c8c5f",
   "metadata": {},
   "outputs": [],
   "source": [
    "duck_api = DuckDuckGoSearchAPIWrapper(max_results=1,safesearch=\"moderate\")\n",
    "duck = DuckDuckGoSearchRun(api_wrapper=duck_api)\n",
    "tools = [duck,YahooFinanceNewsTool()]\n",
    "agent_executor = create_react_agent(model,prompt=prompt, tools=tools, checkpointer=memory)"
   ]
  },
  {
   "cell_type": "code",
   "execution_count": 38,
   "id": "96e20610",
   "metadata": {},
   "outputs": [],
   "source": [
    "config = {\n",
    "    \"configurable\": {\n",
    "        \"thread_id\": \"abc124\"\n",
    "        }\n",
    "    }"
   ]
  },
  {
   "cell_type": "code",
   "execution_count": 39,
   "id": "fd87b39b",
   "metadata": {},
   "outputs": [],
   "source": [
    "def record_audio(file_path=\"input.wav\", duration=6, fs=16000):\n",
    "    print(\"🎙️ Recording...\")\n",
    "    audio = sd.rec(int(duration * fs), samplerate=fs, channels=1, dtype='int16')\n",
    "    sd.wait()\n",
    "    write(file_path, fs, audio)\n",
    "    print(f\"✅ Saved recording to {file_path}\")\n",
    "    print(\"📁 File exists:\", os.path.exists(file_path))\n"
   ]
  },
  {
   "cell_type": "code",
   "execution_count": 40,
   "id": "b07e858d",
   "metadata": {},
   "outputs": [],
   "source": [
    "def transcribe(file_path):\n",
    "    model = whisper.load_model(\"base\")\n",
    "    result = model.transcribe(file_path)\n",
    "    print(\"📝 Transcription:\", result[\"text\"])\n",
    "    return result[\"text\"]"
   ]
  },
  {
   "cell_type": "code",
   "execution_count": 41,
   "id": "32e14a5b",
   "metadata": {},
   "outputs": [],
   "source": [
    "def ask_agent(prompt):\n",
    "    result = agent_executor.invoke({\"messages\": prompt}, config=config)\n",
    "    return result[\"messages\"][-1].content"
   ]
  },
  {
   "cell_type": "code",
   "execution_count": 42,
   "id": "a7257619",
   "metadata": {},
   "outputs": [],
   "source": [
    "def speak(text, file=\"reply.wav\"):\n",
    "    tts = TTS(\"tts_models/en/ljspeech/vits\")  \n",
    "    tts.tts_to_file(text=text, file_path=file)\n",
    "    print(\"🔊 TTS complete\")"
   ]
  },
  {
   "cell_type": "code",
   "execution_count": 43,
   "id": "9eea82aa",
   "metadata": {},
   "outputs": [],
   "source": [
    "def play_audio(file=\"reply.wav\"):\n",
    "    wave_obj = sa.WaveObject.from_wave_file(file)\n",
    "    play_obj = wave_obj.play()\n",
    "    play_obj.wait_done()"
   ]
  },
  {
   "cell_type": "code",
   "execution_count": null,
   "id": "1ff01a89",
   "metadata": {},
   "outputs": [
    {
     "name": "stdout",
     "output_type": "stream",
     "text": [
      "🎙️ Recording...\n",
      "✅ Saved recording to input.wav\n",
      "📁 File exists: True\n",
      "🧠 Transcribing with Whisper...\n",
      "📝 Transcribed Text:  Hello Myself Abhinav Sunil. I am a Computer Diwali Student from Diwali Professional University.\n",
      "🤖 Bot: It seems like there might be some confusion. Diwali Professional University doesn't seem to be a real university. Lovely Professional University is a well-known university in India, and it seems like the tool yielded a result related to that university instead.\n",
      " > tts_models/en/ljspeech/vits is already downloaded.\n",
      " > Using model: vits\n",
      " > Setting up Audio Processor...\n",
      " | > sample_rate:22050\n",
      " | > resample:False\n",
      " | > num_mels:80\n",
      " | > log_func:np.log10\n",
      " | > min_level_db:0\n",
      " | > frame_shift_ms:None\n",
      " | > frame_length_ms:None\n",
      " | > ref_level_db:None\n",
      " | > fft_size:1024\n",
      " | > power:None\n",
      " | > preemphasis:0.0\n",
      " | > griffin_lim_iters:None\n",
      " | > signal_norm:None\n",
      " | > symmetric_norm:None\n",
      " | > mel_fmin:0\n",
      " | > mel_fmax:None\n",
      " | > pitch_fmin:None\n",
      " | > pitch_fmax:None\n",
      " | > spec_gain:20.0\n",
      " | > stft_pad_mode:reflect\n",
      " | > max_norm:1.0\n",
      " | > clip_norm:True\n",
      " | > do_trim_silence:False\n",
      " | > trim_db:60\n",
      " | > do_sound_norm:False\n",
      " | > do_amp_to_db_linear:True\n",
      " | > do_amp_to_db_mel:True\n",
      " | > do_rms_norm:False\n",
      " | > db_level:None\n",
      " | > stats_path:None\n",
      " | > base:10\n",
      " | > hop_length:256\n",
      " | > win_length:1024\n"
     ]
    },
    {
     "name": "stderr",
     "output_type": "stream",
     "text": [
      "g:\\TTS\\lib\\site-packages\\TTS\\utils\\io.py:54: FutureWarning: You are using `torch.load` with `weights_only=False` (the current default value), which uses the default pickle module implicitly. It is possible to construct malicious pickle data which will execute arbitrary code during unpickling (See https://github.com/pytorch/pytorch/blob/main/SECURITY.md#untrusted-models for more details). In a future release, the default value for `weights_only` will be flipped to `True`. This limits the functions that could be executed during unpickling. Arbitrary objects will no longer be allowed to be loaded via this mode unless they are explicitly allowlisted by the user via `torch.serialization.add_safe_globals`. We recommend you start setting `weights_only=True` for any use case where you don't have full control of the loaded file. Please open an issue on GitHub for any issues related to this experimental feature.\n",
      "  return torch.load(f, map_location=map_location, **kwargs)\n"
     ]
    },
    {
     "name": "stdout",
     "output_type": "stream",
     "text": [
      " > Text splitted to sentences.\n",
      "['It seems like there might be some confusion.', \"Diwali Professional University doesn't seem to be a real university.\", 'Lovely Professional University is a well-known university in India, and it seems like the tool yielded a result related to that university instead.']\n",
      " > Processing time: 7.1545140743255615\n",
      " > Real-time factor: 0.38486337127444137\n",
      "🔊 TTS complete\n"
     ]
    },
    {
     "ename": "",
     "evalue": "",
     "output_type": "error",
     "traceback": [
      "\u001b[1;31mThe Kernel crashed while executing code in the current cell or a previous cell. \n",
      "\u001b[1;31mPlease review the code in the cell(s) to identify a possible cause of the failure. \n",
      "\u001b[1;31mClick <a href='https://aka.ms/vscodeJupyterKernelCrash'>here</a> for more info. \n",
      "\u001b[1;31mView Jupyter <a href='command:jupyter.viewOutput'>log</a> for further details."
     ]
    }
   ],
   "source": [
    "if __name__ == \"__main__\":\n",
    "    record_audio()\n",
    "    query = transcribe_audio(\"input.wav\")\n",
    "    answer = ask_agent(query)\n",
    "    print(\"🤖 Bot:\", answer)\n",
    "    speak(answer)\n",
    "    play_audio()"
   ]
  },
  {
   "cell_type": "code",
   "execution_count": null,
   "id": "061c38d9",
   "metadata": {},
   "outputs": [],
   "source": []
  },
  {
   "cell_type": "code",
   "execution_count": null,
   "id": "93c31762",
   "metadata": {},
   "outputs": [],
   "source": []
  },
  {
   "cell_type": "code",
   "execution_count": null,
   "id": "e6d3d43e",
   "metadata": {},
   "outputs": [],
   "source": []
  }
 ],
 "metadata": {
  "kernelspec": {
   "display_name": "Python 3",
   "language": "python",
   "name": "python3"
  },
  "language_info": {
   "codemirror_mode": {
    "name": "ipython",
    "version": 3
   },
   "file_extension": ".py",
   "mimetype": "text/x-python",
   "name": "python",
   "nbconvert_exporter": "python",
   "pygments_lexer": "ipython3",
   "version": "3.10.9"
  }
 },
 "nbformat": 4,
 "nbformat_minor": 5
}
