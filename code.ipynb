{
 "cells": [
  {
   "cell_type": "code",
   "execution_count": null,
   "id": "8d4f2812",
   "metadata": {},
   "outputs": [
    {
     "data": {
      "text/plain": [
       "True"
      ]
     },
     "execution_count": 105,
     "metadata": {},
     "output_type": "execute_result"
    }
   ],
   "source": [
    "\n",
    "import os\n",
    "from dotenv import load_dotenv\n",
    "load_dotenv()\n",
    "from langchain_groq import ChatGroq\n",
    "from langchain_core.prompts import ChatPromptTemplate,MessagesPlaceholder\n",
    "from langgraph.checkpoint.memory import MemorySaver\n",
    "from langchain_community.tools import DuckDuckGoSearchRun\n",
    "from langchain_community.utilities import DuckDuckGoSearchAPIWrapper\n",
    "from langchain_community.tools.yahoo_finance_news import YahooFinanceNewsTool\n",
    "from langgraph.prebuilt import create_react_agent\n",
    "\n"
   ]
  },
  {
   "cell_type": "code",
   "execution_count": 208,
   "id": "07635a1a",
   "metadata": {},
   "outputs": [],
   "source": [
    "os.environ[\"GROQ_API_KEY\"] = os.getenv(\"GROQ_API_KEY\")"
   ]
  },
  {
   "cell_type": "code",
   "execution_count": null,
   "id": "c5d3a9f5",
   "metadata": {},
   "outputs": [],
   "source": [
    "\n",
    "model = ChatGroq(model=\"llama3-70b-8192\", temperature=0.2)"
   ]
  },
  {
   "cell_type": "code",
   "execution_count": 211,
   "id": "fc8d7025",
   "metadata": {},
   "outputs": [],
   "source": [
    "prompt = ChatPromptTemplate.from_messages([\n",
    "    (\"system\", \n",
    "     \"You are a helpful assistant. If you don't know something, use the DuckDuckGo tool to search the web. \"\n",
    "     \"When using the tool, always pass a clear and non-empty 'query' argument string.\"),\n",
    "    MessagesPlaceholder(variable_name=\"messages\")\n",
    "])"
   ]
  },
  {
   "cell_type": "code",
   "execution_count": null,
   "id": "4daf6cb5",
   "metadata": {},
   "outputs": [],
   "source": [
    "\n",
    "memory = MemorySaver()"
   ]
  },
  {
   "cell_type": "code",
   "execution_count": 214,
   "id": "cd79b22a",
   "metadata": {},
   "outputs": [],
   "source": [
    "duck_api = DuckDuckGoSearchAPIWrapper(max_results=1,safesearch=\"moderate\")\n",
    "duck = DuckDuckGoSearchRun(api_wrapper=duck_api)\n",
    "tools = [duck,YahooFinanceNewsTool()]"
   ]
  },
  {
   "cell_type": "code",
   "execution_count": 216,
   "id": "a66ed508",
   "metadata": {},
   "outputs": [],
   "source": [
    "agent_executor = create_react_agent(model,prompt=prompt, tools=tools, checkpointer=memory)"
   ]
  },
  {
   "cell_type": "code",
   "execution_count": 219,
   "id": "0d025233",
   "metadata": {},
   "outputs": [],
   "source": [
    "config = {\n",
    "    \"configurable\": {\n",
    "        \"thread_id\": \"abc124\"\n",
    "        }\n",
    "    }"
   ]
  },
  {
   "cell_type": "code",
   "execution_count": 220,
   "id": "348260f2",
   "metadata": {},
   "outputs": [],
   "source": [
    "result = agent_executor.invoke({\"messages\":\"current stock price of apple today along with source\"},config=config)"
   ]
  },
  {
   "cell_type": "code",
   "execution_count": 221,
   "id": "164370cd",
   "metadata": {},
   "outputs": [
    {
     "data": {
      "text/plain": [
       "'Here is the current stock price of Apple along with the source: \\n\\nThe current stock price of Apple is not fixed as it constantly changes. However, according to the latest available data, the stock price of Apple is around $175-$180. The source of this information is Tickertech, a third-party service.'"
      ]
     },
     "execution_count": 221,
     "metadata": {},
     "output_type": "execute_result"
    }
   ],
   "source": [
    "result[\"messages\"][-1].content"
   ]
  },
  {
   "cell_type": "code",
   "execution_count": null,
   "id": "3110f792",
   "metadata": {},
   "outputs": [],
   "source": []
  },
  {
   "cell_type": "code",
   "execution_count": null,
   "id": "eaaf7a76",
   "metadata": {},
   "outputs": [],
   "source": []
  },
  {
   "cell_type": "code",
   "execution_count": null,
   "id": "4cb9f9ca",
   "metadata": {},
   "outputs": [],
   "source": []
  },
  {
   "cell_type": "code",
   "execution_count": null,
   "id": "e52442ef",
   "metadata": {},
   "outputs": [],
   "source": []
  },
  {
   "cell_type": "code",
   "execution_count": null,
   "id": "bce70d98",
   "metadata": {},
   "outputs": [],
   "source": []
  }
 ],
 "metadata": {
  "kernelspec": {
   "display_name": "Python 3",
   "language": "python",
   "name": "python3"
  },
  "language_info": {
   "codemirror_mode": {
    "name": "ipython",
    "version": 3
   },
   "file_extension": ".py",
   "mimetype": "text/x-python",
   "name": "python",
   "nbconvert_exporter": "python",
   "pygments_lexer": "ipython3",
   "version": "3.10.9"
  }
 },
 "nbformat": 4,
 "nbformat_minor": 5
}
